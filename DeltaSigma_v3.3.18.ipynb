{
 "cells": [
  {
   "cell_type": "code",
   "execution_count": 3,
   "metadata": {},
   "outputs": [
    {
     "name": "stderr",
     "output_type": "stream",
     "text": [
      "C:\\ProgramData\\Anaconda3\\lib\\site-packages\\deltasigma\\__init__.py:919: UserWarning: \n",
      "This call to matplotlib.use() has no effect because the backend has already\n",
      "been chosen; matplotlib.use() must be called *before* pylab, matplotlib.pyplot,\n",
      "or matplotlib.backends is imported for the first time.\n",
      "\n",
      "The backend was *originally* set to 'module://ipykernel.pylab.backend_inline' by the following code:\n",
      "  File \"C:\\ProgramData\\Anaconda3\\lib\\runpy.py\", line 193, in _run_module_as_main\n",
      "    \"__main__\", mod_spec)\n",
      "  File \"C:\\ProgramData\\Anaconda3\\lib\\runpy.py\", line 85, in _run_code\n",
      "    exec(code, run_globals)\n",
      "  File \"C:\\ProgramData\\Anaconda3\\lib\\site-packages\\ipykernel_launcher.py\", line 16, in <module>\n",
      "    app.launch_new_instance()\n",
      "  File \"C:\\ProgramData\\Anaconda3\\lib\\site-packages\\traitlets\\config\\application.py\", line 658, in launch_instance\n",
      "    app.start()\n",
      "  File \"C:\\ProgramData\\Anaconda3\\lib\\site-packages\\ipykernel\\kernelapp.py\", line 478, in start\n",
      "    self.io_loop.start()\n",
      "  File \"C:\\ProgramData\\Anaconda3\\lib\\site-packages\\zmq\\eventloop\\ioloop.py\", line 177, in start\n",
      "    super(ZMQIOLoop, self).start()\n",
      "  File \"C:\\ProgramData\\Anaconda3\\lib\\site-packages\\tornado\\ioloop.py\", line 888, in start\n",
      "    handler_func(fd_obj, events)\n",
      "  File \"C:\\ProgramData\\Anaconda3\\lib\\site-packages\\tornado\\stack_context.py\", line 277, in null_wrapper\n",
      "    return fn(*args, **kwargs)\n",
      "  File \"C:\\ProgramData\\Anaconda3\\lib\\site-packages\\zmq\\eventloop\\zmqstream.py\", line 440, in _handle_events\n",
      "    self._handle_recv()\n",
      "  File \"C:\\ProgramData\\Anaconda3\\lib\\site-packages\\zmq\\eventloop\\zmqstream.py\", line 472, in _handle_recv\n",
      "    self._run_callback(callback, msg)\n",
      "  File \"C:\\ProgramData\\Anaconda3\\lib\\site-packages\\zmq\\eventloop\\zmqstream.py\", line 414, in _run_callback\n",
      "    callback(*args, **kwargs)\n",
      "  File \"C:\\ProgramData\\Anaconda3\\lib\\site-packages\\tornado\\stack_context.py\", line 277, in null_wrapper\n",
      "    return fn(*args, **kwargs)\n",
      "  File \"C:\\ProgramData\\Anaconda3\\lib\\site-packages\\ipykernel\\kernelbase.py\", line 283, in dispatcher\n",
      "    return self.dispatch_shell(stream, msg)\n",
      "  File \"C:\\ProgramData\\Anaconda3\\lib\\site-packages\\ipykernel\\kernelbase.py\", line 233, in dispatch_shell\n",
      "    handler(stream, idents, msg)\n",
      "  File \"C:\\ProgramData\\Anaconda3\\lib\\site-packages\\ipykernel\\kernelbase.py\", line 399, in execute_request\n",
      "    user_expressions, allow_stdin)\n",
      "  File \"C:\\ProgramData\\Anaconda3\\lib\\site-packages\\ipykernel\\ipkernel.py\", line 208, in do_execute\n",
      "    res = shell.run_cell(code, store_history=store_history, silent=silent)\n",
      "  File \"C:\\ProgramData\\Anaconda3\\lib\\site-packages\\ipykernel\\zmqshell.py\", line 537, in run_cell\n",
      "    return super(ZMQInteractiveShell, self).run_cell(*args, **kwargs)\n",
      "  File \"C:\\ProgramData\\Anaconda3\\lib\\site-packages\\IPython\\core\\interactiveshell.py\", line 2728, in run_cell\n",
      "    interactivity=interactivity, compiler=compiler, result=result)\n",
      "  File \"C:\\ProgramData\\Anaconda3\\lib\\site-packages\\IPython\\core\\interactiveshell.py\", line 2850, in run_ast_nodes\n",
      "    if self.run_code(code, result):\n",
      "  File \"C:\\ProgramData\\Anaconda3\\lib\\site-packages\\IPython\\core\\interactiveshell.py\", line 2910, in run_code\n",
      "    exec(code_obj, self.user_global_ns, self.user_ns)\n",
      "  File \"<ipython-input-3-5d08dbfd46e1>\", line 1, in <module>\n",
      "    import matplotlib.pyplot as plt\n",
      "  File \"C:\\ProgramData\\Anaconda3\\lib\\site-packages\\matplotlib\\pyplot.py\", line 72, in <module>\n",
      "    from matplotlib.backends import pylab_setup\n",
      "  File \"C:\\ProgramData\\Anaconda3\\lib\\site-packages\\matplotlib\\backends\\__init__.py\", line 14, in <module>\n",
      "    line for line in traceback.format_stack()\n",
      "\n",
      "\n",
      "  matplotlib.use('Agg')\n"
     ]
    }
   ],
   "source": [
    "import matplotlib.pyplot as plt\n",
    "import matplotlib as mpl\n",
    "import numpy as np\n",
    "import deltasigma as ds\n",
    "import scipy as sp"
   ]
  },
  {
   "cell_type": "code",
   "execution_count": 47,
   "metadata": {
    "scrolled": true
   },
   "outputs": [
    {
     "name": "stderr",
     "output_type": "stream",
     "text": [
      "C:\\ProgramData\\Anaconda3\\lib\\site-packages\\deltasigma\\_realizeNTF.py:223: FutureWarning: `rcond` parameter will change to the default of machine precision times ``max(M, N)`` where M and N are the input matrix dimensions.\n",
      "To use the future default and silence this warning we advise to pass `rcond=None`, to keep using the old, explicitly pass `rcond=-1`.\n",
      "  a = -np.real(np.linalg.lstsq(T.T, L1.T)[0]).T\n"
     ]
    },
    {
     "name": "stdout",
     "output_type": "stream",
     "text": [
      "1\n",
      " (z - 1)^2 \n",
      "-----------\n",
      "    z^2    \n",
      " (z - 1)^2 \n",
      "-----------\n",
      "    z^2    \n"
     ]
    }
   ],
   "source": [
    "#Set Simulation Parameters\n",
    "N = 8192*40;\n",
    "t = np.arange(301)\n",
    "\n",
    "#Set Modulator Parameters\n",
    "x0=0\n",
    "nlev=20\n",
    "OSR = 128\n",
    "order=2\n",
    "optimizationFlag = 0\n",
    "\n",
    "#Set Stagenumber\n",
    "n = 5\n",
    "\n",
    "\"\"\"\n",
    "signal.ZerosPolesGain([1, 2], [3, 4], 5, dt=0.1)\n",
    "ZerosPolesGainDiscrete(\n",
    "array([1, 2]),\n",
    "array([3, 4]),\n",
    "5,\n",
    "dt: 0.1\n",
    "\"\"\"\n",
    "#Create the Modulators\n",
    "H = ds.synthesizeNTF(order,OSR,optimizationFlag)\n",
    "#print(ds.pretty_lti(H))\n",
    "[a,g,b,c] = ds.realizeNTF(H,'CIFF')\n",
    "ABCD = ds.stuffABCD(a,g,b,c,form='CIFF')\n",
    "\n",
    "#Create Known Modulator NTF (1-z^-1)^2\n",
    "H2 = sp.signal.ZerosPolesGain([1, 1], [0, 0], 1)\n",
    "[a,g,b,c] = ds.realizeNTF(H2,'CIFF');\n",
    "ABCD2 = ds.stuffABCD(a,g,b,c,form='CIFF')\n",
    "[NTF2,STF2] = ds.calculateTF(ABCD2)\n",
    "print(ds.pretty_lti(STF2))\n",
    "print(ds.pretty_lti(NTF2))\n",
    "\n",
    "#Define input Signal\n",
    "A = 3;\n",
    "fB = int(np.ceil(N/(2.*OSR)))\n",
    "ftest = np.floor(2./3.*fB)\n",
    "u =A*np.sin(2*np.pi*ftest/N*np.arange(N))+2\n",
    "\n",
    "#Create Y,V\n",
    "[v,xn,xmax,y] = ds.simulateDSM(u,ABCD,nlev,x0);\n",
    "\n",
    "\"\"\"\n",
    "stage2=v-y\n",
    "[v_2, xn_2, xmax_2, y_2] = ds.simulateDSM(stage2, ABCD, nlev, x0)\n",
    "stage3=v_2-y_2\n",
    "[v_3, xn_3, xmax_3, y_3] = ds.simulateDSM(stage3, ABCD, nlev, x0)\n",
    "stage4=v_3-y_3\n",
    "[v_4, xn_4, xmax_4, y_4] = ds.simulateDSM(stage4, ABCD, nlev, x0)\n",
    "stage5=v_4-y_4\n",
    "[v_5, xn_5, xmax_5, y_5] = ds.simulateDSM(stage5, ABCD, nlev, x0)\n",
    "\"\"\"\n",
    "\n",
    "#Create Y,V with NTF (1-z^-1)^2\n",
    "[v21,xn21,xmax21,y21] = ds.simulateDSM(u,ABCD2,nlev,x0);\n",
    "e = v21-y21\n",
    "[v22,xn22,xmax22,y22] = ds.simulateDSM(e,ABCD2,nlev,x0);\n",
    "#STF_tf = sp.signal.zpk2tf(STF2.zeros, STF2.poles, STF2.gain);\n",
    "#NTF_tf = sp.signal.zpk2tf(NTF2.zeros, NTF2.poles, NTF2.gain);\n",
    "#H21 = STF_tf; #H1*NTF = H2*STF; STF = 1; NTF = (1-z^-1)^2\n",
    "#H22 = NTF_tf;\n",
    "H22 = sp.signal.TransferFunction([1,-2,1],[1,0,0]);\n",
    "print(ds.pretty_lti(H21.to_zpk()))\n",
    "H21 = sp.signal.TransferFunction([1],[1]);\n",
    "\n",
    "filtered_v21 = sp.signal.lfilter(H21.num,H21.den,v21);\n",
    "filtered_v22 = sp.signal.lfilter(H22.num,H22.den,v22);\n",
    "vfinalM22 = filtered_v21 - filtered_v22;\n",
    "\n",
    "vout = vfinalM22;\n"
   ]
  },
  {
   "cell_type": "code",
   "execution_count": 48,
   "metadata": {
    "scrolled": false
   },
   "outputs": [
    {
     "name": "stdout",
     "output_type": "stream",
     "text": [
      "[1.80358108e-06 5.41074324e-06 5.41074324e-06 1.80358108e-06] [ 1.         -2.95091385  2.90302503 -0.95209675]\n"
     ]
    },
    {
     "name": "stderr",
     "output_type": "stream",
     "text": [
      "C:\\ProgramData\\Anaconda3\\lib\\site-packages\\ipykernel_launcher.py:19: MatplotlibDeprecationWarning: pyplot.hold is deprecated.\n",
      "    Future behavior will be consistent with the long-time default:\n",
      "    plot commands add elements without first clearing the\n",
      "    Axes and/or Figure.\n",
      "C:\\ProgramData\\Anaconda3\\lib\\site-packages\\matplotlib\\__init__.py:805: MatplotlibDeprecationWarning: axes.hold is deprecated. Please remove it from your matplotlibrc and/or style files.\n",
      "  mplDeprecation)\n",
      "C:\\ProgramData\\Anaconda3\\lib\\site-packages\\matplotlib\\rcsetup.py:155: MatplotlibDeprecationWarning: axes.hold is deprecated, will be removed in 3.0\n",
      "  mplDeprecation)\n"
     ]
    },
    {
     "data": {
      "image/png": "[encoded data removed]",
      "text/plain": [
       "<matplotlib.figure.Figure at 0x228cb955588>"
      ]
     },
     "metadata": {},
     "output_type": "display_data"
    },
    {
     "data": {
      "image/png": "[encoded data removed]",
      "text/plain": [
       "<matplotlib.figure.Figure at 0x228cd131908>"
      ]
     },
     "metadata": {},
     "output_type": "display_data"
    },
    {
     "data": {
      "text/plain": [
       "'\\nProblems\\n1 Very Small output after Butterworth Filter\\n2 Lfilter: Digital or Analog?\\n3 Retrieval of Signal in MASH\\n4 Retrieval in Modulator - correct? Cutoff Frequency\\n'"
      ]
     },
     "execution_count": 48,
     "metadata": {},
     "output_type": "execute_result"
    }
   ],
   "source": [
    "from scipy.signal import butter, lfilter\n",
    "from scipy.signal import freqs\n",
    "\n",
    "#Create Butterworth Transfer Function\n",
    "slack = 1;\n",
    "order = 3; fc = 1./OSR*slack;\n",
    "btype = 'lowpass'; analog = 'False'; output = 'ba';\n",
    "\n",
    "num,den = butter(order,fc,btype,analog,output);\n",
    "num,den = butter(order,fc);\n",
    "print(num,den)\n",
    "\n",
    "#Filter V\n",
    "U_bar = lfilter(num,den,vout);\n",
    "\n",
    "#Plot U,V\n",
    "plt.figure(figsize=(20, 4))\n",
    "plt.step(t, u[t],'r')\n",
    "plt.hold(True)\n",
    "plt.step(t, vout[t], 'g')\n",
    "plt.axis([0, 300, -u.max(), u.max()])\n",
    "plt.xlabel('Sample Number')\n",
    "plt.ylabel('u, v')\n",
    "plt.title('Modulator Input & Output');\n",
    "plt.show()\n",
    "\n",
    "#Plot Interpolated Signal\n",
    "plt.figure(figsize=(20, 4))\n",
    "plt.plot(t, U_bar[t], 'g')\n",
    "plt.axis([0, 300,-U_bar.max(),U_bar.max()])\n",
    "plt.xlabel('Sample Number')\n",
    "plt.ylabel('Interpolated Signal')\n",
    "plt.title('Discrete Time Output Signal');\n",
    "plt.show()\n",
    "\n",
    "\n",
    "\"\"\"\n",
    "Problems\n",
    "1 Very Small output after Butterworth Filter\n",
    "2 Lfilter: Digital or Analog?\n",
    "3 Retrieval of Signal in MASH\n",
    "4 Retrieval in Modulator - correct? Cutoff Frequency\n",
    "\"\"\""
   ]
  },
  {
   "cell_type": "code",
   "execution_count": 49,
   "metadata": {},
   "outputs": [
    {
     "data": {
      "image/png": "[encoded data removed]",
      "text/plain": [
       "<matplotlib.figure.Figure at 0x228cdc3ce48>"
      ]
     },
     "metadata": {},
     "output_type": "display_data"
    }
   ],
   "source": [
    "import scipy.signal as signal\n",
    "w, h = signal.freqz(num, den)\n",
    "plt.plot(w, 20 * np.log10(abs(h)))\n",
    "plt.xscale('log')\n",
    "plt.title('Butterworth filter frequency response')\n",
    "plt.xlabel('Frequency [radians / second]')\n",
    "plt.ylabel('Amplitude [dB]')\n",
    "plt.margins(0, 0.1)\n",
    "plt.grid(which='both', axis='both')\n",
    "plt.axvline(100, color='green') # cutoff frequency\n",
    "plt.show()"
   ]
  },
  {
   "cell_type": "code",
   "execution_count": null,
   "metadata": {},
   "outputs": [],
   "source": []
  }
 ],
 "metadata": {
  "kernelspec": {
   "display_name": "Python 3",
   "language": "python",
   "name": "python3"
  },
  "language_info": {
   "codemirror_mode": {
    "name": "ipython",
    "version": 3
   },
   "file_extension": ".py",
   "mimetype": "text/x-python",
   "name": "python",
   "nbconvert_exporter": "python",
   "pygments_lexer": "ipython3",
   "version": "3.6.4"
  }
 },
 "nbformat": 4,
 "nbformat_minor": 2
}
